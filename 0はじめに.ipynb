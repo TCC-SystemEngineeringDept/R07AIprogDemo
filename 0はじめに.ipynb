{
  "nbformat": 4,
  "nbformat_minor": 0,
  "metadata": {
    "colab": {
      "provenance": [],
      "authorship_tag": "ABX9TyONemhu5Mmi8D1Pzp9zGKw2",
      "include_colab_link": true
    },
    "kernelspec": {
      "name": "python3",
      "display_name": "Python 3"
    },
    "language_info": {
      "name": "python"
    }
  },
  "cells": [
    {
      "cell_type": "markdown",
      "metadata": {
        "id": "view-in-github",
        "colab_type": "text"
      },
      "source": [
        "<a href=\"https://colab.research.google.com/github/TCC-SystemEngineeringDept/R07AIprogDemo/blob/main/0%E3%81%AF%E3%81%98%E3%82%81%E3%81%AB.ipynb\" target=\"_parent\"><img src=\"https://colab.research.google.com/assets/colab-badge.svg\" alt=\"Open In Colab\"/></a>"
      ]
    },
    {
      "cell_type": "markdown",
      "source": [
        "# 東北電子専門学校 AIシステムエンジニア科\n",
        "# 高校生向け IT・AIデモ\n",
        "\n",
        "Tohoku Computer College AI System Engineering Dept. Some Rights Reserved."
      ],
      "metadata": {
        "id": "xZKmKC3gHHrz"
      }
    },
    {
      "cell_type": "markdown",
      "source": [
        "<div style=\"background-color: #fff0f0; padding: 10px; border-radius: 5px;\">\n",
        "このデモの説明文は、[クリエイティブ・コモンズ 表示-継承 4.0 国際 ライセンス](https://creativecommons.org/licenses/by-sa/4.0/deed.ja)の下に提供されています。\n",
        "\n",
        "\n",
        "ライセンスの条件に従っている限り、プログラムと資料を、リミックス・改変・別の作品のベースにできます。ただし、「オリジナルへのリンクを示すこと」「リミックス・改変・作成した別の作品も同じライセンスで公開すること」が条件です。\n",
        "</div>"
      ],
      "metadata": {
        "id": "_KrM1cRMI_L8"
      }
    },
    {
      "cell_type": "code",
      "source": [],
      "metadata": {
        "id": "T214kHhHJF73"
      },
      "execution_count": null,
      "outputs": []
    }
  ]
}